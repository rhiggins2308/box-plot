{
 "cells": [
  {
   "cell_type": "markdown",
   "metadata": {},
   "source": [
    "# Boxplots"
   ]
  },
  {
   "cell_type": "markdown",
   "metadata": {},
   "source": [
    "## 1. History of Boxplots\n",
    "The boxplot was introduced by mathematician John Tukey [1], in 1970 when he developed his toolkit for exploratory data analysis [2].\n",
    "\n",
    "To give the tool it's full title, it is called a Box and Whiskers plot. Below is a diagram displaying all of the main components of a box and whisker plot [3].\n",
    "\n",
    "![title](img/bplot_1.png)"
   ]
  },
  {
   "cell_type": "markdown",
   "metadata": {},
   "source": [
    "The boxplot is an easily interpreted, visual method for representing the distribution of numerical data, using quartiles as a measure.\n",
    "You will notice that the boxplot image above is made up of the following:\n",
    "- a continuous vertical line, which represents the majority spread of the data set, with the lower and upper extremes of the data marked on either end.\n",
    "- a box that is intersected by the data line. This box can appear in different places along the data line. It can also be of varying length. These all depend on the quartile values of the dataset. Where the lowest point on the data line represents the low end of the data, then the lowest edge of the box represents the lower (first) quartile value of the set (Denoted by 'Q1' on the diagram). Similarly, the uppermost edge of the box represents the upper (third) quartile value of the set (Denoted by 'Q3').\n",
    "- within the box, there is a horizontal line, which represents the median (2nd quartile), or halfway value of the data set. This is denoted on the diagram by 'M'. Again, this can appear at various positions inside the box, depending on whether the data is skewed one way or the other.\n",
    "- Finally, the individual dots on either end represent outlier data points within the set\n",
    "\n",
    "### Outliers\n",
    "So how do we identify outlier data versus data that is included as part of the main set, denoted by the continuous line? We need to calculate the Inter-quartile Range (IQR), which is the difference bewteen the upper and lower quartiles.\n",
    "We then measure any data points that are more than 1.5 times the IQR away from either the lower or upper extremes of the box & whiskers plot. These values are outliers and are denoted by single points on the plot."
   ]
  },
  {
   "cell_type": "markdown",
   "metadata": {},
   "source": [
    "## 2. Uses of Boxplots\n",
    "Boxplots are useful in comparing multiple sets of similar data, such as performance of multiple classes in an end of year maths exam.\n",
    "From the plot, it is very easy to see the actual quartile values, the extreme values and any outlying data points [4]."
   ]
  },
  {
   "cell_type": "markdown",
   "metadata": {},
   "source": [
    "## 3. Demonstration\n",
    "Taking a large (> 30 datapoints) sample of normally distributed data, the empirical rule states that ~97% of the dataset will fall within +/- 3 standard deviations from the mean. This suggests that we should see some outlier data that will be shown on a box & whiskers plot."
   ]
  },
  {
   "cell_type": "code",
   "execution_count": 2,
   "metadata": {},
   "outputs": [
    {
     "data": {
      "image/png": "[encoded data removed]",
      "text/plain": [
       "<Figure size 432x288 with 1 Axes>"
      ]
     },
     "metadata": {
      "needs_background": "light"
     },
     "output_type": "display_data"
    }
   ],
   "source": [
    "# import the numpy packasg for random sampling, pyplot for generating visual data plots, pandas for dataframes and data manipulation\n",
    "import numpy as np\n",
    "import matplotlib.pyplot as plt\n",
    "import pandas as pd\n",
    "\n",
    "# declare and initiate variables of statistical nature, with values for use in generating random data\n",
    "mean, std_dev, class_size = 55, 8.5, 100\n",
    "\n",
    "# sample randomly 100 datapoints from a normal probability distribution\n",
    "# using the mean and standard deviation previously defined\n",
    "# this data will be stored in the variable 'sample'\n",
    "sample = np.random.normal(mean, std_dev, class_size)\n",
    "\n",
    "# use pyplot to generate a histogram plot of the 'sample' data\n",
    "plt.hist(sample)\n",
    "\n",
    "# show the generated plot, in this case a histogram, on screen\n",
    "plt.show()"
   ]
  },
  {
   "cell_type": "markdown",
   "metadata": {},
   "source": [
    "Above, we have generated a normally distributed sample of 100 student grades for an end of year Maths exam. The grades have a mean value of 55 marks, with a standard deviation of 7.5 marks. If we calculate the lower quartile (LQ), median and upper quartile (UQ) of the set, we get the below array of values:"
   ]
  },
  {
   "cell_type": "code",
   "execution_count": 3,
   "metadata": {},
   "outputs": [
    {
     "data": {
      "text/html": [
       "<div>\n",
       "<style scoped>\n",
       "    .dataframe tbody tr th:only-of-type {\n",
       "        vertical-align: middle;\n",
       "    }\n",
       "\n",
       "    .dataframe tbody tr th {\n",
       "        vertical-align: top;\n",
       "    }\n",
       "\n",
       "    .dataframe thead th {\n",
       "        text-align: right;\n",
       "    }\n",
       "</style>\n",
       "<table border=\"1\" class=\"dataframe\">\n",
       "  <thead>\n",
       "    <tr style=\"text-align: right;\">\n",
       "      <th></th>\n",
       "      <th>Quartiles</th>\n",
       "    </tr>\n",
       "  </thead>\n",
       "  <tbody>\n",
       "    <tr>\n",
       "      <th>Lower Q.</th>\n",
       "      <td>49.288805</td>\n",
       "    </tr>\n",
       "    <tr>\n",
       "      <th>Median</th>\n",
       "      <td>55.427453</td>\n",
       "    </tr>\n",
       "    <tr>\n",
       "      <th>Upper Q.</th>\n",
       "      <td>60.044337</td>\n",
       "    </tr>\n",
       "  </tbody>\n",
       "</table>\n",
       "</div>"
      ],
      "text/plain": [
       "          Quartiles\n",
       "Lower Q.  49.288805\n",
       "Median    55.427453\n",
       "Upper Q.  60.044337"
      ]
     },
     "execution_count": 3,
     "metadata": {},
     "output_type": "execute_result"
    }
   ],
   "source": [
    "qtiles = [np.quantile(sample, 0.25), np.median(sample), np.quantile(sample, 0.75)]\n",
    "df_qtiles = pd.DataFrame(data=qtiles, index=['Lower Q.', 'Median', 'Upper Q.'], columns = ['Quartiles'])\n",
    "df_qtiles"
   ]
  },
  {
   "cell_type": "markdown",
   "metadata": {},
   "source": [
    "Next, we should claculate the IQR of the dataset, by subtracting LQ from UQ:"
   ]
  },
  {
   "cell_type": "code",
   "execution_count": 4,
   "metadata": {},
   "outputs": [
    {
     "data": {
      "text/html": [
       "<div>\n",
       "<style scoped>\n",
       "    .dataframe tbody tr th:only-of-type {\n",
       "        vertical-align: middle;\n",
       "    }\n",
       "\n",
       "    .dataframe tbody tr th {\n",
       "        vertical-align: top;\n",
       "    }\n",
       "\n",
       "    .dataframe thead th {\n",
       "        text-align: right;\n",
       "    }\n",
       "</style>\n",
       "<table border=\"1\" class=\"dataframe\">\n",
       "  <thead>\n",
       "    <tr style=\"text-align: right;\">\n",
       "      <th></th>\n",
       "      <th>Inter Quartile Range</th>\n",
       "    </tr>\n",
       "  </thead>\n",
       "  <tbody>\n",
       "    <tr>\n",
       "      <th>IQR</th>\n",
       "      <td>10.755532</td>\n",
       "    </tr>\n",
       "  </tbody>\n",
       "</table>\n",
       "</div>"
      ],
      "text/plain": [
       "     Inter Quartile Range\n",
       "IQR             10.755532"
      ]
     },
     "execution_count": 4,
     "metadata": {},
     "output_type": "execute_result"
    }
   ],
   "source": [
    "iqr = qtiles[2] - qtiles[0]\n",
    "df_iqr = pd.DataFrame(data=iqr, index=['IQR'], columns = ['Inter Quartile Range'])\n",
    "df_iqr"
   ]
  },
  {
   "cell_type": "markdown",
   "metadata": {},
   "source": [
    "Following on, just to verify that we should see some outliers in our boxplot, for demonstration purposes, we will calculate the extreme values of our dataset. From earlier, these values are within 1.5 times the IQR of both the lower and upper extremes."
   ]
  },
  {
   "cell_type": "code",
   "execution_count": 5,
   "metadata": {},
   "outputs": [
    {
     "data": {
      "text/html": [
       "<div>\n",
       "<style scoped>\n",
       "    .dataframe tbody tr th:only-of-type {\n",
       "        vertical-align: middle;\n",
       "    }\n",
       "\n",
       "    .dataframe tbody tr th {\n",
       "        vertical-align: top;\n",
       "    }\n",
       "\n",
       "    .dataframe thead th {\n",
       "        text-align: right;\n",
       "    }\n",
       "</style>\n",
       "<table border=\"1\" class=\"dataframe\">\n",
       "  <thead>\n",
       "    <tr style=\"text-align: right;\">\n",
       "      <th></th>\n",
       "      <th>Extrema</th>\n",
       "    </tr>\n",
       "  </thead>\n",
       "  <tbody>\n",
       "    <tr>\n",
       "      <th>Lower extreme</th>\n",
       "      <td>33.155507</td>\n",
       "    </tr>\n",
       "    <tr>\n",
       "      <th>Upper Extreme</th>\n",
       "      <td>76.177635</td>\n",
       "    </tr>\n",
       "  </tbody>\n",
       "</table>\n",
       "</div>"
      ],
      "text/plain": [
       "                 Extrema\n",
       "Lower extreme  33.155507\n",
       "Upper Extreme  76.177635"
      ]
     },
     "execution_count": 5,
     "metadata": {},
     "output_type": "execute_result"
    }
   ],
   "source": [
    "extrema = [qtiles[0]-(iqr*3)/2, qtiles[2]+(iqr*3)/2]\n",
    "\n",
    "df_extrema = pd.DataFrame(data=extrema, index=['Lower extreme', 'Upper Extreme'], columns = ['Extrema'])\n",
    "df_extrema"
   ]
  },
  {
   "cell_type": "markdown",
   "metadata": {},
   "source": [
    "Finally, if we find the minimum and maximum grades achieved within the entire set, we can see as individual data points, any data that is lower than the low extreme and any data that is greater than the high extreme:"
   ]
  },
  {
   "cell_type": "code",
   "execution_count": 9,
   "metadata": {},
   "outputs": [
    {
     "data": {
      "text/html": [
       "<div>\n",
       "<style scoped>\n",
       "    .dataframe tbody tr th:only-of-type {\n",
       "        vertical-align: middle;\n",
       "    }\n",
       "\n",
       "    .dataframe tbody tr th {\n",
       "        vertical-align: top;\n",
       "    }\n",
       "\n",
       "    .dataframe thead th {\n",
       "        text-align: right;\n",
       "    }\n",
       "</style>\n",
       "<table border=\"1\" class=\"dataframe\">\n",
       "  <thead>\n",
       "    <tr style=\"text-align: right;\">\n",
       "      <th></th>\n",
       "      <th>Max/Min Values</th>\n",
       "    </tr>\n",
       "  </thead>\n",
       "  <tbody>\n",
       "    <tr>\n",
       "      <th>Max Data Point</th>\n",
       "      <td>33.155507</td>\n",
       "    </tr>\n",
       "    <tr>\n",
       "      <th>Min Data Point</th>\n",
       "      <td>76.177635</td>\n",
       "    </tr>\n",
       "  </tbody>\n",
       "</table>\n",
       "</div>"
      ],
      "text/plain": [
       "                Max/Min Values\n",
       "Max Data Point       33.155507\n",
       "Min Data Point       76.177635"
      ]
     },
     "execution_count": 9,
     "metadata": {},
     "output_type": "execute_result"
    }
   ],
   "source": [
    "max_min = [sample.min(), sample.max()]\n",
    "\n",
    "df_maxmin = pd.DataFrame(data=extrema, index=['Max Data Point', 'Min Data Point'], columns = ['Max/Min Values'])\n",
    "df_maxmin"
   ]
  },
  {
   "cell_type": "code",
   "execution_count": 10,
   "metadata": {},
   "outputs": [
    {
     "data": {
      "text/plain": [
       "{'whiskers': [<matplotlib.lines.Line2D at 0x12149e5c0>,\n",
       "  <matplotlib.lines.Line2D at 0x12149e908>],\n",
       " 'caps': [<matplotlib.lines.Line2D at 0x12149ec50>,\n",
       "  <matplotlib.lines.Line2D at 0x12149ef98>],\n",
       " 'boxes': [<matplotlib.lines.Line2D at 0x12149e1d0>],\n",
       " 'medians': [<matplotlib.lines.Line2D at 0x1214a8320>],\n",
       " 'fliers': [<matplotlib.lines.Line2D at 0x1214a8668>],\n",
       " 'means': []}"
      ]
     },
     "execution_count": 10,
     "metadata": {},
     "output_type": "execute_result"
    },
    {
     "data": {
      "image/png": "[encoded data removed]",
      "text/plain": [
       "<Figure size 432x288 with 1 Axes>"
      ]
     },
     "metadata": {
      "needs_background": "light"
     },
     "output_type": "display_data"
    }
   ],
   "source": [
    "plt.boxplot(sample)"
   ]
  },
  {
   "cell_type": "markdown",
   "metadata": {},
   "source": [
    "Now if I had multiple classes completing the same exam and I wanted to compare the results, class by class, the box plot is ideal for this type of quick analysis. First I will generate 3 more samples of class grades for the exam."
   ]
  },
  {
   "cell_type": "code",
   "execution_count": 11,
   "metadata": {},
   "outputs": [],
   "source": [
    "mean_1, std_dev_1, class_size_1 = 45, 3.0, 100\n",
    "sample_1 = np.random.normal(mean_1, std_dev_1, class_size_1)\n",
    "\n",
    "mean_2, std_dev_2, class_size_2 = 60, 5, 100\n",
    "sample_2 = np.random.normal(mean_2, std_dev_2, class_size_2)\n",
    "\n",
    "mean_3, std_dev_3, class_size_3 = 59, 3.2, 100\n",
    "sample_3 = np.random.normal(mean_3, std_dev_3, class_size_3)"
   ]
  },
  {
   "cell_type": "code",
   "execution_count": 12,
   "metadata": {},
   "outputs": [
    {
     "data": {
      "image/png": "[encoded data removed]",
      "text/plain": [
       "<Figure size 432x288 with 3 Axes>"
      ]
     },
     "metadata": {
      "needs_background": "light"
     },
     "output_type": "display_data"
    }
   ],
   "source": [
    "plt.subplot(1, 3, 1)\n",
    "plt.boxplot(sample_1)\n",
    "\n",
    "plt.subplot(1, 3, 2)\n",
    "plt.boxplot(sample_2)\n",
    "\n",
    "plt.subplot(1, 3, 3)\n",
    "plt.boxplot(sample_3)\n",
    "\n",
    "plt.show()"
   ]
  },
  {
   "cell_type": "markdown",
   "metadata": {},
   "source": [
    "In each of the three boxplots above, we can see the differences in the size of the box, depending on the std deviation from the mean. The y-axis for each plot varies depending on the mean itself and the appearance of outliers is subject to the random selection of data in each case."
   ]
  },
  {
   "cell_type": "markdown",
   "metadata": {},
   "source": [
    "## 4. Alternatives to the Boxplot\n",
    "Some alternatives to box-and-whisker plots are:\n",
    "- violin plot"
   ]
  },
  {
   "cell_type": "code",
   "execution_count": 13,
   "metadata": {},
   "outputs": [
    {
     "name": "stderr",
     "output_type": "stream",
     "text": [
      "/Users/Robbie/anaconda3/lib/python3.7/site-packages/scipy/stats/stats.py:1713: FutureWarning: Using a non-tuple sequence for multidimensional indexing is deprecated; use `arr[tuple(seq)]` instead of `arr[seq]`. In the future this will be interpreted as an array index, `arr[np.array(seq)]`, which will result either in an error or a different result.\n",
      "  return np.add.reduce(sorted[indexer] * weights, axis=axis) / sumval\n"
     ]
    },
    {
     "data": {
      "text/plain": [
       "<matplotlib.axes._subplots.AxesSubplot at 0x1a230c58d0>"
      ]
     },
     "execution_count": 13,
     "metadata": {},
     "output_type": "execute_result"
    },
    {
     "data": {
      "image/png": "[encoded data removed]",
      "text/plain": [
       "<Figure size 432x288 with 1 Axes>"
      ]
     },
     "metadata": {
      "needs_background": "light"
     },
     "output_type": "display_data"
    }
   ],
   "source": [
    "import seaborn as sns\n",
    "\n",
    "sns.violinplot(sample)"
   ]
  },
  {
   "cell_type": "markdown",
   "metadata": {},
   "source": [
    "## 5. References\n",
    "\n",
    "### 1. http://vita.had.co.nz/papers/boxplots.pdf\n",
    "### 2. J. W. Tukey. Exploratory Data Analysis. Addison–Wesley, preliminary edition, 1970.\n",
    "### 3. http://mathworld.wolfram.com/Box-and-WhiskerPlot.html\n",
    "### 4. https://chartio.com/resources/tutorials/what-is-a-box-plot/"
   ]
  }
 ],
 "metadata": {
  "kernelspec": {
   "display_name": "Python 3",
   "language": "python",
   "name": "python3"
  },
  "language_info": {
   "codemirror_mode": {
    "name": "ipython",
    "version": 3
   },
   "file_extension": ".py",
   "mimetype": "text/x-python",
   "name": "python",
   "nbconvert_exporter": "python",
   "pygments_lexer": "ipython3",
   "version": "3.7.0"
  }
 },
 "nbformat": 4,
 "nbformat_minor": 2
}
