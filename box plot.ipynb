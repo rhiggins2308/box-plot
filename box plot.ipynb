{
 "cells": [
  {
   "cell_type": "markdown",
   "metadata": {},
   "source": [
    "# Boxplots"
   ]
  },
  {
   "cell_type": "markdown",
   "metadata": {},
   "source": [
    "## 1. History of Boxplots\n",
    "The boxplot was introduced by mathematician John Tukey [1], in 1970 when he developed his toolkit for exploratory data analysis [2].\n",
    "\n",
    "To give the tool it's full title, it is called a Box and Whiskers plot. Below is a diagram displaying all of the main components of a box and whisker plot [3].\n",
    "\n",
    "![title](img/bplot_1.png)"
   ]
  },
  {
   "cell_type": "markdown",
   "metadata": {},
   "source": [
    "The boxplot is an easily interpreted, visual method for representing the distribution of numerical data, using quartiles as a measure.\n",
    "You will notice that the boxplot image above is made up of the following:\n",
    "- a continuous vertical line, which represents the majority spread of the data set, with the lower and upper extremes of the data marked on either end.\n",
    "- a box that is intersected by the data line. This box can appear in different places along the data line. It can also be of varying length. These all depend on the quartile values of the dataset. Where the lowest point on the data line represents the low end of the data, then the lowest edge of the box represents the lower (first) quartile value of the set (Denoted by 'Q1' on the diagram). Similarly, the uppermost edge of the box represents the upper (third) quartile value of the set (Denoted by 'Q3').\n",
    "- within the box, there is a horizontal line, which represents the median (2nd quartile), or halfway value of the data set. This is denoted on the diagram by 'M'. Again, this can appear at various positions inside the box, depending on whether the data is skewed one way or the other.\n",
    "- Finally, the individual dots on either end represent outlier data points within the set\n",
    "\n",
    "### Outliers\n",
    "So how do we identify outlier data versus data that is included as part of the main set, denoted by the continuous line? We need to calculate the Inter-quartile Range (IQR), which is the difference bewteen the upper and lower quartiles.\n",
    "We then measure any data points that are more than 1.5 times the IQR away from either the lower or upper extremes of the box & whiskers plot. These values are outliers and are denoted by single points on the plot."
   ]
  },
  {
   "cell_type": "markdown",
   "metadata": {},
   "source": [
    "## 2. Uses of Boxplots\n",
    "Boxplots are useful in comparing multiple sets of similar data, such as performance of multiple classes in an end of year maths exam.\n",
    "From the plot, it is very easy to see the actual quartile values, the extreme values and any outlying data points [4]."
   ]
  },
  {
   "cell_type": "markdown",
   "metadata": {},
   "source": [
    "## 3. Demonstration\n",
    "Taking a large (> 30 datapoints) sample of normally distributed data, the empirical rule states that ~97% of the dataset will fall within +/- 3 standard deviations from the mean. This suggests that we should see some outlier data that will be shown on a box & whiskers plot."
   ]
  },
  {
   "cell_type": "code",
   "execution_count": 13,
   "metadata": {},
   "outputs": [
    {
     "data": {
      "image/png": "[encoded data removed]",
      "text/plain": [
       "<Figure size 432x288 with 1 Axes>"
      ]
     },
     "metadata": {
      "needs_background": "light"
     },
     "output_type": "display_data"
    }
   ],
   "source": [
    "import numpy as np\n",
    "import matplotlib.pyplot as plt\n",
    "\n",
    "mean, std_dev, class_size = 55, 7.5, 1000\n",
    "sample = np.random.normal(mean, std_dev, class_size)\n",
    "\n",
    "plt.hist(sample)\n",
    "plt.show()"
   ]
  },
  {
   "cell_type": "markdown",
   "metadata": {},
   "source": [
    "Above, we have generated a normally distributed sample of 100 student grades for an end of year Maths exam. The grades have a mean value of 55 marks, with a standard deviation of 7.5 marks. If we calculate the lower quartile (LQ), median and upper quartile (UQ) of the set, we get the below array of values:"
   ]
  },
  {
   "cell_type": "code",
   "execution_count": 6,
   "metadata": {},
   "outputs": [
    {
     "data": {
      "text/plain": [
       "[50.51220482723272, 55.247192174550904, 60.31959186780554]"
      ]
     },
     "execution_count": 6,
     "metadata": {},
     "output_type": "execute_result"
    }
   ],
   "source": [
    "quartiles = [np.quantile(sample, 0.25), np.median(sample), np.quantile(sample, 0.75)]\n",
    "quartiles"
   ]
  },
  {
   "cell_type": "markdown",
   "metadata": {},
   "source": [
    "Next, we should claculate the IQR of the dataset, by subtracting LQ from UQ:"
   ]
  },
  {
   "cell_type": "code",
   "execution_count": 7,
   "metadata": {},
   "outputs": [
    {
     "data": {
      "text/plain": [
       "9.80738704057282"
      ]
     },
     "execution_count": 7,
     "metadata": {},
     "output_type": "execute_result"
    }
   ],
   "source": [
    "iqr = quartiles[2] - quartiles[0]\n",
    "iqr"
   ]
  },
  {
   "cell_type": "markdown",
   "metadata": {},
   "source": [
    "Following on, just to verify that we should see some outliers in our boxplot, for demonstration purposes, we will calculate the extreme values of our dataset. From earlier, these values are within 1.5 times the IQR of both the lower and upper extremes."
   ]
  },
  {
   "cell_type": "code",
   "execution_count": 9,
   "metadata": {},
   "outputs": [
    {
     "data": {
      "text/plain": [
       "[35.80112426637349, 75.03067242866477]"
      ]
     },
     "execution_count": 9,
     "metadata": {},
     "output_type": "execute_result"
    }
   ],
   "source": [
    "extrema = [quartiles[0] - (iqr*3)/2, quartiles[2] + (iqr*3)/2]\n",
    "extrema"
   ]
  },
  {
   "cell_type": "markdown",
   "metadata": {},
   "source": [
    "Finally, if we find the minimum and maximum grades achieved within the entire set, we can see that there is at least one grade below the lower extreme and at least one grade above the upper extreme:"
   ]
  },
  {
   "cell_type": "code",
   "execution_count": 12,
   "metadata": {},
   "outputs": [
    {
     "data": {
      "text/plain": [
       "[32.8952366508912, 79.8932134140644]"
      ]
     },
     "execution_count": 12,
     "metadata": {},
     "output_type": "execute_result"
    }
   ],
   "source": [
    "max_min = [sample.min(), sample.max()]\n",
    "max_min"
   ]
  },
  {
   "cell_type": "code",
   "execution_count": 14,
   "metadata": {},
   "outputs": [
    {
     "data": {
      "text/plain": [
       "{'whiskers': [<matplotlib.lines.Line2D at 0x1a2045e748>,\n",
       "  <matplotlib.lines.Line2D at 0x1a2045ea90>],\n",
       " 'caps': [<matplotlib.lines.Line2D at 0x1a2045edd8>,\n",
       "  <matplotlib.lines.Line2D at 0x1a2045eeb8>],\n",
       " 'boxes': [<matplotlib.lines.Line2D at 0x1a2045e320>],\n",
       " 'medians': [<matplotlib.lines.Line2D at 0x1a204684a8>],\n",
       " 'fliers': [<matplotlib.lines.Line2D at 0x1a204687f0>],\n",
       " 'means': []}"
      ]
     },
     "execution_count": 14,
     "metadata": {},
     "output_type": "execute_result"
    },
    {
     "data": {
      "image/png": "[encoded data removed]",
      "text/plain": [
       "<Figure size 432x288 with 1 Axes>"
      ]
     },
     "metadata": {
      "needs_background": "light"
     },
     "output_type": "display_data"
    }
   ],
   "source": [
    "plt.boxplot(sample)"
   ]
  },
  {
   "cell_type": "markdown",
   "metadata": {},
   "source": [
    "## 4. Relevant Terminology & Definitions"
   ]
  },
  {
   "cell_type": "code",
   "execution_count": null,
   "metadata": {},
   "outputs": [],
   "source": []
  },
  {
   "cell_type": "markdown",
   "metadata": {},
   "source": [
    "## 5. Alternatives to the Boxplot"
   ]
  },
  {
   "cell_type": "markdown",
   "metadata": {},
   "source": [
    "## 6. References\n",
    "\n",
    "### 1. http://vita.had.co.nz/papers/boxplots.pdf\n",
    "### 2. J. W. Tukey. Exploratory Data Analysis. Addison–Wesley, preliminary edition, 1970.\n",
    "### 3. http://mathworld.wolfram.com/Box-and-WhiskerPlot.html\n",
    "### 4. https://chartio.com/resources/tutorials/what-is-a-box-plot/\n",
    "### 5. \n",
    "### 6. \n",
    "### 7. \n",
    "### 8. \n",
    "### 9. \n",
    "### 10."
   ]
  },
  {
   "cell_type": "code",
   "execution_count": null,
   "metadata": {},
   "outputs": [],
   "source": []
  }
 ],
 "metadata": {
  "kernelspec": {
   "display_name": "Python 3",
   "language": "python",
   "name": "python3"
  },
  "language_info": {
   "codemirror_mode": {
    "name": "ipython",
    "version": 3
   },
   "file_extension": ".py",
   "mimetype": "text/x-python",
   "name": "python",
   "nbconvert_exporter": "python",
   "pygments_lexer": "ipython3",
   "version": "3.7.0"
  }
 },
 "nbformat": 4,
 "nbformat_minor": 2
}
